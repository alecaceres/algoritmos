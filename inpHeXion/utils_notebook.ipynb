{
 "cells": [
  {
   "cell_type": "code",
   "execution_count": 148,
   "metadata": {},
   "outputs": [],
   "source": [
    "import networkx as nx\n",
    "from networkx.algorithms.shortest_paths.generic import has_path"
   ]
  },
  {
   "cell_type": "code",
   "execution_count": 123,
   "metadata": {},
   "outputs": [],
   "source": [
    "def addNode(G, node):\n",
    "    i,j = node\n",
    "    G.add_node(i+j*7)\n",
    "    return G\n",
    "\n",
    "def addPlayer(G, src, dest, player):\n",
    "    i_src, j_src = src # nodo de origen (donde se hace el primer clic)\n",
    "    i_dest, j_dest = dest # nodo de destino (donde se hace el segundo clic)\n",
    "    src_pos = i_src*7+j_src # posición del origen en notación vectorial (no matricial)\n",
    "    dest_pos = i_dest*7+j_dest # posición del destino en notación vectorial (no matricial)\n",
    "    G.nodes[src_pos]['player'] = player # el nodo del origen se queda pintado en el color del player\n",
    "    G.nodes[dest_pos]['player'] = 1 if player==2 else 2 # el nodo de destino se queda pintado en el color del rival\n",
    "    G.remove_edge(src_pos, dest_pos, key = 'possible_movement') # se elimina la arista src_dest como posible mov.\n",
    "    G = updatePlayers(G, src_pos, src, player)\n",
    "    G.remove_edges_from([edge for edge in G.edges(dest_pos) if G.has_edge(*edge, key = 'possible_movement')])\n",
    "    G = addEdges(G, *dest)\n",
    "    return G\n",
    "\n",
    "def addFirstPlayer(G, dest, player):\n",
    "    i,j = dest\n",
    "    G.nodes[i+j*7]['player'] = player\n",
    "    G = addEdges(G, *dest)\n",
    "    return G\n",
    "\n",
    "def addEdges(G, i, j):\n",
    "    possible_movements = {(i+1,j),(i-1,j),(i,j+1),(i,j-1),(i+1,j-1),(i-1,j+1)}\n",
    "    possible_movements = [(i*7+j, movement[0]*7 + movement[1]) for movement in possible_movements\n",
    "                          if (movement in [(i,j) for i in range(7) for j in range(7)] # si la posición existe en el tablero\n",
    "                               and not G.nodes[movement[0]*7+movement[1]]['player'])] # si no hay fichas en esa casilla\n",
    "    [G.add_edge(i,j, key = 'possible_movement') for (i,j) in possible_movements]\n",
    "    return G\n",
    "\n",
    "def updatePlayers(G, src_pos, src, player):\n",
    "    i,j = src\n",
    "    possible_movements = {(i+1,j),(i-1,j),(i,j+1),(i,j-1),(i+1,j-1),(i-1,j+1)}\n",
    "    possible_movements = [(i*7+j, movement[0]*7 + movement[1]) for movement in possible_movements\n",
    "                          if (movement in [(i,j) for i in range(7) for j in range(7)] # si la posición existe en el tablero\n",
    "                               and G.nodes[movement[0]*7+movement[1]]['player'] == player)]\n",
    "    G.remove_edges_from([edge for edge in G.edges(src_pos) if not G.has_edge(*edge, key = 'possible_movement')])\n",
    "    [G.add_edge(i,j, key = 'path') for (i,j) in possible_movements]\n",
    "    return G\n",
    "\n",
    "def checkWinner(G)\n",
    "\n",
    "def getPossibleMovements(G, player):\n",
    "    return [edge for node in G.nodes for edge in G.edges(node)\n",
    "            if G.nodes[node]['player'] == (1 if player==2 else 2)]\n",
    "    \n",
    "def getBoard(G):\n",
    "    return [[G.nodes[i*7+j]['player'] for j in range(7)] for i in range(7)]"
   ]
  },
  {
   "cell_type": "code",
   "execution_count": 160,
   "metadata": {},
   "outputs": [],
   "source": [
    "G = nx.MultiGraph()\n",
    "G.add_nodes_from(range(49), player = 0)"
   ]
  },
  {
   "cell_type": "code",
   "execution_count": 161,
   "metadata": {},
   "outputs": [],
   "source": [
    "G = addFirstPlayer(G, (1,1), 2)"
   ]
  },
  {
   "cell_type": "code",
   "execution_count": 162,
   "metadata": {},
   "outputs": [
    {
     "data": {
      "text/plain": [
       "MultiEdgeView([(1, 8, 'possible_movement'), (2, 8, 'possible_movement'), (7, 8, 'possible_movement'), (8, 9, 'possible_movement'), (8, 15, 'possible_movement'), (8, 14, 'possible_movement')])"
      ]
     },
     "execution_count": 162,
     "metadata": {},
     "output_type": "execute_result"
    }
   ],
   "source": [
    "G.edges"
   ]
  },
  {
   "cell_type": "code",
   "execution_count": 163,
   "metadata": {},
   "outputs": [],
   "source": [
    "G = addPlayer(G, (1,1), (1,2), 1)"
   ]
  },
  {
   "cell_type": "code",
   "execution_count": 164,
   "metadata": {},
   "outputs": [
    {
     "data": {
      "text/plain": [
       "MultiEdgeView([(1, 8, 'possible_movement'), (2, 8, 'possible_movement'), (2, 9, 'possible_movement'), (3, 9, 'possible_movement'), (7, 8, 'possible_movement'), (8, 15, 'possible_movement'), (8, 14, 'possible_movement'), (9, 10, 'possible_movement'), (9, 15, 'possible_movement'), (9, 16, 'possible_movement')])"
      ]
     },
     "execution_count": 164,
     "metadata": {},
     "output_type": "execute_result"
    }
   ],
   "source": [
    "G.edges"
   ]
  },
  {
   "cell_type": "code",
   "execution_count": 165,
   "metadata": {},
   "outputs": [],
   "source": [
    "G = addPlayer(G, (1,1), (2,1), 2)"
   ]
  },
  {
   "cell_type": "code",
   "execution_count": 166,
   "metadata": {},
   "outputs": [
    {
     "data": {
      "text/plain": [
       "MultiEdgeView([(1, 8, 'possible_movement'), (2, 8, 'possible_movement'), (2, 9, 'possible_movement'), (3, 9, 'possible_movement'), (7, 8, 'possible_movement'), (8, 14, 'possible_movement'), (8, 9, 'path'), (9, 10, 'possible_movement'), (9, 16, 'possible_movement'), (14, 15, 'possible_movement'), (15, 21, 'possible_movement'), (15, 22, 'possible_movement'), (15, 16, 'possible_movement')])"
      ]
     },
     "execution_count": 166,
     "metadata": {},
     "output_type": "execute_result"
    }
   ],
   "source": [
    "G.edges"
   ]
  },
  {
   "cell_type": "code",
   "execution_count": 167,
   "metadata": {},
   "outputs": [
    {
     "data": {
      "text/plain": [
       "True"
      ]
     },
     "execution_count": 167,
     "metadata": {},
     "output_type": "execute_result"
    }
   ],
   "source": [
    "has_path(G,1,2)"
   ]
  },
  {
   "cell_type": "code",
   "execution_count": 168,
   "metadata": {},
   "outputs": [
    {
     "data": {
      "text/plain": [
       "MultiEdgeView([(1, 8, 'possible_movement'), (2, 8, 'possible_movement'), (2, 9, 'possible_movement'), (3, 9, 'possible_movement'), (7, 8, 'possible_movement'), (8, 14, 'possible_movement'), (8, 9, 'path'), (9, 10, 'possible_movement'), (9, 16, 'possible_movement'), (14, 15, 'possible_movement'), (15, 21, 'possible_movement'), (15, 22, 'possible_movement'), (15, 16, 'possible_movement')])"
      ]
     },
     "execution_count": 168,
     "metadata": {},
     "output_type": "execute_result"
    }
   ],
   "source": [
    "G.edges"
   ]
  },
  {
   "cell_type": "code",
   "execution_count": 228,
   "metadata": {},
   "outputs": [
    {
     "data": {
      "image/png": "[encoded data removed]",
      "text/plain": [
       "<Figure size 432x288 with 1 Axes>"
      ]
     },
     "metadata": {},
     "output_type": "display_data"
    }
   ],
   "source": [
    "import matplotlib.pyplot as plt\n",
    "import networkx as nx\n",
    "\n",
    "pos = [(j,i) for i in range(6,-1,-1) for j in range(7)]\n",
    "node_colours, edge_colours = [], []\n",
    "for node in G.nodes:\n",
    "    if not G.nodes[node]['player']: node_colours.append('white')\n",
    "    elif G.nodes[node]['player'] == 1: node_colours.append('black')\n",
    "    else: node_colours.append('lightgrey')\n",
    "\n",
    "for edge in G.edges:\n",
    "    if 'path' in edge: edge_colours.append('red')\n",
    "    else: edge_colours.append('green')\n",
    "        \n",
    "nx.draw(G, pos, node_color=node_colours, edge_color = edge_colours, node_size=500, width = 2, with_labels=True)\n",
    "\n",
    "plt.show()"
   ]
  },
  {
   "cell_type": "code",
   "execution_count": 205,
   "metadata": {},
   "outputs": [
    {
     "name": "stdout",
     "output_type": "stream",
     "text": [
      "(1, 8, 'possible_movement') white\n",
      "(2, 8, 'possible_movement') white\n",
      "(2, 9, 'possible_movement') white\n",
      "(3, 9, 'possible_movement') white\n",
      "(7, 8, 'possible_movement') white\n",
      "(8, 14, 'possible_movement') white\n",
      "(8, 9, 'path') black\n",
      "(9, 10, 'possible_movement') white\n",
      "(9, 16, 'possible_movement') white\n",
      "(14, 15, 'possible_movement') white\n",
      "(15, 21, 'possible_movement') white\n",
      "(15, 22, 'possible_movement') white\n",
      "(15, 16, 'possible_movement') white\n"
     ]
    }
   ],
   "source": [
    "for (a,b) in zip(G.edges, edge_colours):\n",
    "    print(a,b)"
   ]
  },
  {
   "cell_type": "code",
   "execution_count": 174,
   "metadata": {},
   "outputs": [
    {
     "data": {
      "text/plain": [
       "NodeView((0, 1, 2, 3, 4, 5, 6, 7, 8, 9, 10, 11, 12, 13, 14, 15, 16, 17, 18, 19, 20, 21, 22, 23, 24, 25, 26, 27, 28, 29, 30, 31, 32, 33, 34, 35, 36, 37, 38, 39, 40, 41, 42, 43, 44, 45, 46, 47, 48))"
      ]
     },
     "execution_count": 174,
     "metadata": {},
     "output_type": "execute_result"
    }
   ],
   "source": [
    "G.nodes"
   ]
  }
 ],
 "metadata": {
  "kernelspec": {
   "display_name": "Python 3",
   "language": "python",
   "name": "python3"
  },
  "language_info": {
   "codemirror_mode": {
    "name": "ipython",
    "version": 3
   },
   "file_extension": ".py",
   "mimetype": "text/x-python",
   "name": "python",
   "nbconvert_exporter": "python",
   "pygments_lexer": "ipython3",
   "version": "3.6.10"
  }
 },
 "nbformat": 4,
 "nbformat_minor": 4
}
