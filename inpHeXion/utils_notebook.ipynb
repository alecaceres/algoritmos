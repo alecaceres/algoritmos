{
 "cells": [
  {
   "cell_type": "code",
   "execution_count": 7,
   "metadata": {},
   "outputs": [],
   "source": [
    "import networkx as nx"
   ]
  },
  {
   "cell_type": "code",
   "execution_count": 133,
   "metadata": {},
   "outputs": [],
   "source": [
    "def addNode(G, node):\n",
    "    i,j = node\n",
    "    G.add_node(i+j*7)\n",
    "    return G\n",
    "\n",
    "def addPlayer(G, src, dest, player):\n",
    "    i_src, j_src = src\n",
    "    i_dest, j_dest = dest\n",
    "    src_pos = i_src+j_src*7\n",
    "    dest_pos = i_dest+j_dest*7\n",
    "    G.nodes[src_pos]['player'] = player\n",
    "    G.nodes[dest_pos]['player'] = 1 if player==2 else 2\n",
    "    G.remove_edge(src_pos, dest_pos)\n",
    "    G = addEdges(G, *dest)\n",
    "    return G\n",
    "\n",
    "def addFirstPlayer(G, dest, player):\n",
    "    i,j = dest\n",
    "    G.nodes[i+j*7]['player'] = player\n",
    "    G = addEdges(G, *dest)\n",
    "    return G\n",
    "\n",
    "def addEdges(G, i, j):\n",
    "    possible_movements = {(i+1,j),(i-1,j),(i,j+1),(i,j-1),(i+1,j-1),(i-1,j+1)}\n",
    "    print(possible_movements)\n",
    "    possible_movements = [(i+j*7, movement[0] + movement[1]*7) for movement in possible_movements\n",
    "                          if (movement in [(i,j) for i in range(7) for j in range(7)] # si la posición existe en el tablero\n",
    "                               and not G.nodes[movement[0]+movement[1]*7]['player'])] # si no hay fichas en esa casilla\n",
    "    print(possible_movements)\n",
    "    G.add_edges_from(possible_movements)\n",
    "    return G\n",
    "    \n",
    "def getBoard(G):\n",
    "    return [[G.nodes[i+j*7]['player'] for j in range(7)] for i in range(7)]"
   ]
  },
  {
   "cell_type": "code",
   "execution_count": 134,
   "metadata": {},
   "outputs": [],
   "source": [
    "G = nx.Graph()\n",
    "G.add_nodes_from(range(49), player = 0)"
   ]
  },
  {
   "cell_type": "code",
   "execution_count": 135,
   "metadata": {},
   "outputs": [
    {
     "name": "stdout",
     "output_type": "stream",
     "text": [
      "{(0, 1), (1, 2), (2, 1), (2, 0), (1, 0), (0, 2)}\n",
      "[(8, 7), (8, 15), (8, 9), (8, 2), (8, 1), (8, 14)]\n"
     ]
    }
   ],
   "source": [
    "G = addFirstPlayer(G, (1,1), 1)"
   ]
  },
  {
   "cell_type": "code",
   "execution_count": 136,
   "metadata": {},
   "outputs": [
    {
     "name": "stdout",
     "output_type": "stream",
     "text": [
      "{(1, 2), (3, 0), (3, 1), (2, 0), (2, 2), (1, 1)}\n",
      "[(9, 15), (9, 3), (9, 10), (9, 2), (9, 16)]\n"
     ]
    }
   ],
   "source": [
    "G = addPlayer(G, (1,1), (2,1), 1)"
   ]
  },
  {
   "cell_type": "code",
   "execution_count": 55,
   "metadata": {},
   "outputs": [],
   "source": [
    "G = addAttribute(G, (2,2), 'player', 1)"
   ]
  }
 ],
 "metadata": {
  "kernelspec": {
   "display_name": "Python 3",
   "language": "python",
   "name": "python3"
  },
  "language_info": {
   "codemirror_mode": {
    "name": "ipython",
    "version": 3
   },
   "file_extension": ".py",
   "mimetype": "text/x-python",
   "name": "python",
   "nbconvert_exporter": "python",
   "pygments_lexer": "ipython3",
   "version": "3.6.10"
  }
 },
 "nbformat": 4,
 "nbformat_minor": 4
}
