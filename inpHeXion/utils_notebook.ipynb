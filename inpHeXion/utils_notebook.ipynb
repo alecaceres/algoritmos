{
 "cells": [
  {
   "cell_type": "code",
   "execution_count": 3,
   "metadata": {},
   "outputs": [],
   "source": [
    "import networkx as nx"
   ]
  },
  {
   "cell_type": "code",
   "execution_count": 123,
   "metadata": {},
   "outputs": [],
   "source": [
    "def addNode(G, node):\n",
    "    i,j = node\n",
    "    G.add_node(i+j*7)\n",
    "    return G\n",
    "\n",
    "def addPlayer(G, src, dest, player):\n",
    "    i_src, j_src = src # nodo de origen (donde se hace el primer clic)\n",
    "    i_dest, j_dest = dest # nodo de destino (donde se hace el segundo clic)\n",
    "    src_pos = i_src*7+j_src # posición del origen en notación vectorial (no matricial)\n",
    "    dest_pos = i_dest*7+j_dest # posición del destino en notación vectorial (no matricial)\n",
    "    G.nodes[src_pos]['player'] = player # el nodo del origen se queda pintado en el color del player\n",
    "    G.nodes[dest_pos]['player'] = 1 if player==2 else 2 # el nodo de destino se queda pintado en el color del rival\n",
    "    G.remove_edge(src_pos, dest_pos, key = 'possible_movement') # se elimina la arista src_dest como posible mov.\n",
    "    G = updatePlayers(G, src_pos, src, player)\n",
    "    G.remove_edges_from([edge for edge in G.edges(dest_pos) if G.has_edge(*edge, key = 'possible_movement')])\n",
    "    G = addEdges(G, *dest)\n",
    "    return G\n",
    "\n",
    "def addFirstPlayer(G, dest, player):\n",
    "    i,j = dest\n",
    "    G.nodes[i+j*7]['player'] = player\n",
    "    G = addEdges(G, *dest)\n",
    "    return G\n",
    "\n",
    "def addEdges(G, i, j):\n",
    "    possible_movements = {(i+1,j),(i-1,j),(i,j+1),(i,j-1),(i+1,j-1),(i-1,j+1)}\n",
    "    possible_movements = [(i*7+j, movement[0]*7 + movement[1]) for movement in possible_movements\n",
    "                          if (movement in [(i,j) for i in range(7) for j in range(7)] # si la posición existe en el tablero\n",
    "                               and not G.nodes[movement[0]*7+movement[1]]['player'])] # si no hay fichas en esa casilla\n",
    "    [G.add_edge(i,j, key = 'possible_movement') for (i,j) in possible_movements]\n",
    "    return G\n",
    "\n",
    "def updatePlayers(G, src_pos, src, player):\n",
    "    i,j = src\n",
    "    possible_movements = {(i+1,j),(i-1,j),(i,j+1),(i,j-1),(i+1,j-1),(i-1,j+1)}\n",
    "    possible_movements = [(i*7+j, movement[0]*7 + movement[1]) for movement in possible_movements\n",
    "                          if (movement in [(i,j) for i in range(7) for j in range(7)] # si la posición existe en el tablero\n",
    "                               and G.nodes[movement[0]*7+movement[1]]['player'] == player)]\n",
    "    G.remove_edges_from([edge for edge in G.edges(src_pos) if not G.has_edge(*edge, key = 'possible_movement')])\n",
    "    [G.add_edge(i,j, key = 'path') for (i,j) in possible_movements]\n",
    "    return G\n",
    "\n",
    "def getPossibleMovements(G, player):\n",
    "    return [edge for node in G.nodes for edge in G.edges(node)\n",
    "            if G.nodes[node]['player'] == (1 if player==2 else 2)]\n",
    "    \n",
    "def getBoard(G):\n",
    "    return [[G.nodes[i*7+j]['player'] for j in range(7)] for i in range(7)]"
   ]
  },
  {
   "cell_type": "code",
   "execution_count": 124,
   "metadata": {},
   "outputs": [],
   "source": [
    "G = nx.MultiGraph()\n",
    "G.add_nodes_from(range(49), player = 0)"
   ]
  },
  {
   "cell_type": "code",
   "execution_count": 125,
   "metadata": {},
   "outputs": [],
   "source": [
    "G = addFirstPlayer(G, (1,1), 2)"
   ]
  },
  {
   "cell_type": "code",
   "execution_count": 126,
   "metadata": {},
   "outputs": [
    {
     "data": {
      "text/plain": [
       "MultiEdgeView([(1, 8, 'possible_movement'), (2, 8, 'possible_movement'), (7, 8, 'possible_movement'), (8, 9, 'possible_movement'), (8, 15, 'possible_movement'), (8, 14, 'possible_movement')])"
      ]
     },
     "execution_count": 126,
     "metadata": {},
     "output_type": "execute_result"
    }
   ],
   "source": [
    "G.edges"
   ]
  },
  {
   "cell_type": "code",
   "execution_count": 127,
   "metadata": {},
   "outputs": [],
   "source": [
    "G = addPlayer(G, (1,1), (1,2), 1)"
   ]
  },
  {
   "cell_type": "code",
   "execution_count": 128,
   "metadata": {},
   "outputs": [
    {
     "data": {
      "text/plain": [
       "MultiEdgeView([(1, 8, 'possible_movement'), (2, 8, 'possible_movement'), (2, 9, 'possible_movement'), (3, 9, 'possible_movement'), (7, 8, 'possible_movement'), (8, 15, 'possible_movement'), (8, 14, 'possible_movement'), (9, 10, 'possible_movement'), (9, 15, 'possible_movement'), (9, 16, 'possible_movement')])"
      ]
     },
     "execution_count": 128,
     "metadata": {},
     "output_type": "execute_result"
    }
   ],
   "source": [
    "G.edges"
   ]
  },
  {
   "cell_type": "code",
   "execution_count": 129,
   "metadata": {},
   "outputs": [],
   "source": [
    "G = addPlayer(G, (1,1), (2,1), 2)"
   ]
  },
  {
   "cell_type": "code",
   "execution_count": 130,
   "metadata": {},
   "outputs": [
    {
     "data": {
      "text/plain": [
       "MultiEdgeView([(1, 8, 'possible_movement'), (2, 8, 'possible_movement'), (2, 9, 'possible_movement'), (3, 9, 'possible_movement'), (7, 8, 'possible_movement'), (8, 14, 'possible_movement'), (8, 9, 'path'), (9, 10, 'possible_movement'), (9, 16, 'possible_movement'), (14, 15, 'possible_movement'), (15, 21, 'possible_movement'), (15, 22, 'possible_movement'), (15, 16, 'possible_movement')])"
      ]
     },
     "execution_count": 130,
     "metadata": {},
     "output_type": "execute_result"
    }
   ],
   "source": [
    "G.edges"
   ]
  }
 ],
 "metadata": {
  "kernelspec": {
   "display_name": "Python 3",
   "language": "python",
   "name": "python3"
  },
  "language_info": {
   "codemirror_mode": {
    "name": "ipython",
    "version": 3
   },
   "file_extension": ".py",
   "mimetype": "text/x-python",
   "name": "python",
   "nbconvert_exporter": "python",
   "pygments_lexer": "ipython3",
   "version": "3.6.10"
  }
 },
 "nbformat": 4,
 "nbformat_minor": 4
}
