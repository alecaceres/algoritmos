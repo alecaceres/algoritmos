{
 "cells": [
  {
   "cell_type": "code",
   "execution_count": 1,
   "metadata": {},
   "outputs": [],
   "source": [
    "import networkx as nx\n",
    "import itertools\n",
    "from networkx.algorithms.shortest_paths.generic import has_path\n",
    "import random"
   ]
  },
  {
   "cell_type": "code",
   "execution_count": 81,
   "metadata": {},
   "outputs": [],
   "source": [
    "def addNode(G, node):\n",
    "    i,j = node\n",
    "    G.add_node(i+j*7)\n",
    "    return G\n",
    "\n",
    "def addPlayer(G, src, dest, player):\n",
    "    i_src, j_src = src # nodo de origen (donde se hace el primer clic)\n",
    "    i_dest, j_dest = dest # nodo de destino (donde se hace el segundo clic)\n",
    "    src_pos = i_src*7+j_src # posición del origen en notación vectorial (no matricial)\n",
    "    dest_pos = i_dest*7+j_dest # posición del destino en notación vectorial (no matricial)\n",
    "    G.nodes[src_pos]['player'] = player # el nodo del origen se queda pintado en el color del player\n",
    "    G.nodes[dest_pos]['player'] = 1 if player==2 else 2 # el nodo de destino se queda pintado en el color del rival\n",
    "    G.remove_edge(src_pos, dest_pos, key = 'possible_movement') # se elimina la arista src_dest como posible mov.\n",
    "    G = updatePlayers(G, src_pos, src, player)\n",
    "    G.remove_edges_from([edge for edge in G.edges(dest_pos) if G.has_edge(*edge, key = 'possible_movement')])\n",
    "    G = addEdges(G, *dest)\n",
    "    return G\n",
    "\n",
    "def addFirstPlayer(G, dest, player):\n",
    "    i,j = dest\n",
    "    G.nodes[i+j*7]['player'] = player\n",
    "    G = addEdges(G, *dest)\n",
    "    return G\n",
    "\n",
    "def addEdges(G, i, j):\n",
    "    possible_movements = {(i+1,j),(i-1,j),(i,j+1),(i,j-1),(i+1,j-1),(i-1,j+1)}\n",
    "    possible_movements = [(i*7+j, movement[0]*7 + movement[1]) for movement in possible_movements\n",
    "                          if (movement in [(i,j) for i in range(7) for j in range(7)] # si la posición existe en el tablero\n",
    "                               and not G.nodes[movement[0]*7+movement[1]]['player'])] # si no hay fichas en esa casilla\n",
    "    [G.add_edge(i,j, key = 'possible_movement') for (i,j) in possible_movements]\n",
    "    return G\n",
    "\n",
    "def updatePlayers(G, src_pos, src, player):\n",
    "    '''\n",
    "    Se actualizan las aristas (tienen la etiqueta de possible_movement si\n",
    "    puede mover del nodo fuente al nodo destino y la etiqueta de path si\n",
    "    forma un camino para uno de los jugadores).\n",
    "    '''\n",
    "    i,j = src\n",
    "    possible_movements = {(i+1,j),(i-1,j),(i,j+1),(i,j-1),(i+1,j-1),(i-1,j+1)}\n",
    "    possible_movements = [(i*7+j, movement[0]*7 + movement[1]) for movement in possible_movements\n",
    "                          if (movement in [(i,j) for i in range(7) for j in range(7)] # si la posición existe en el tablero\n",
    "                               and G.nodes[movement[0]*7+movement[1]]['player'] == player)]\n",
    "    G.remove_edges_from([edge for edge in G.edges(src_pos) if not G.has_edge(*edge, key = 'possible_movement')])\n",
    "    [G.add_edge(i,j, key = 'path') for (i,j) in possible_movements]\n",
    "    return G\n",
    "\n",
    "def checkWinner(G, player):\n",
    "    '''\n",
    "    Esta función devuelve un booleano para saber si el jugador ha\n",
    "    ganado la partida.\n",
    "    '''\n",
    "    G = G.copy()\n",
    "    G.remove_edges_from([edge for edge in G.edges if 'possible_movement' in edge])\n",
    "    all_possible_paths = (list(itertools.product(range(7), range(41,49)))\n",
    "                          + list(itertools.product(range(0,49,7), range(6,49,7))))\n",
    "    return any([has_path(G, src, dest)\n",
    "                for (src, dest) in all_possible_paths\n",
    "                if (G.nodes[src]['player'] == player and G.nodes[src]['player'] == player)])\n",
    "\n",
    "def getPossibleMovements(G, player):\n",
    "    return [edge[:2] for edge in G.edges\n",
    "            if G.nodes[edge[0]]['player'] == (1 if player==2 else 2)\n",
    "               and 'possible_movement' in edge]\n",
    "\n",
    "def nextBlackMovement(G):\n",
    "    '''\n",
    "    Esta función se encarga de implementar la lógica de la siguiente\n",
    "    jugada del jugador negro.\n",
    "    '''\n",
    "    src, dest = random.choice(getPossibleMovements(G, player = 1))\n",
    "    return (src//7, src%7), (dest//7, dest%7)\n",
    "\n",
    "def getBoard(G):\n",
    "    return [[G.nodes[i*7+j]['player'] for j in range(7)] for i in range(7)]"
   ]
  },
  {
   "cell_type": "code",
   "execution_count": 88,
   "metadata": {},
   "outputs": [],
   "source": [
    "G = nx.MultiGraph()\n",
    "G.add_nodes_from(range(49), player = 0)"
   ]
  },
  {
   "cell_type": "code",
   "execution_count": 89,
   "metadata": {},
   "outputs": [],
   "source": [
    "G = addFirstPlayer(G, (1,1), 2)"
   ]
  },
  {
   "cell_type": "code",
   "execution_count": 90,
   "metadata": {},
   "outputs": [
    {
     "data": {
      "image/png": "[encoded data removed]",
      "text/plain": [
       "<Figure size 432x288 with 1 Axes>"
      ]
     },
     "metadata": {},
     "output_type": "display_data"
    }
   ],
   "source": [
    "import matplotlib.pyplot as plt\n",
    "import networkx as nx\n",
    "\n",
    "pos = [(j,i) for i in range(6,-1,-1) for j in range(7)]\n",
    "node_colours, edge_colours = [], []\n",
    "for node in G.nodes:\n",
    "    if not G.nodes[node]['player']: node_colours.append('white')\n",
    "    elif G.nodes[node]['player'] == 1: node_colours.append('black')\n",
    "    else: node_colours.append('lightgrey')\n",
    "\n",
    "for edge in G.edges:\n",
    "    if 'path' in edge: edge_colours.append('red')\n",
    "    else: edge_colours.append('green')\n",
    "        \n",
    "nx.draw(G, pos, node_color=node_colours, edge_color = edge_colours, node_size=500, width = 2, with_labels=True)\n",
    "\n",
    "plt.show()"
   ]
  },
  {
   "cell_type": "code",
   "execution_count": 100,
   "metadata": {},
   "outputs": [
    {
     "data": {
      "text/plain": [
       "True"
      ]
     },
     "execution_count": 100,
     "metadata": {},
     "output_type": "execute_result"
    }
   ],
   "source": [
    "(8,9) in getPossibleMovements(G, player = 1)"
   ]
  },
  {
   "cell_type": "code",
   "execution_count": 101,
   "metadata": {},
   "outputs": [
    {
     "data": {
      "text/plain": [
       "(2, 3)"
      ]
     },
     "execution_count": 101,
     "metadata": {},
     "output_type": "execute_result"
    }
   ],
   "source": [
    "tuple([2,3])"
   ]
  }
 ],
 "metadata": {
  "kernelspec": {
   "display_name": "Python 3",
   "language": "python",
   "name": "python3"
  },
  "language_info": {
   "codemirror_mode": {
    "name": "ipython",
    "version": 3
   },
   "file_extension": ".py",
   "mimetype": "text/x-python",
   "name": "python",
   "nbconvert_exporter": "python",
   "pygments_lexer": "ipython3",
   "version": "3.6.10"
  }
 },
 "nbformat": 4,
 "nbformat_minor": 4
}
